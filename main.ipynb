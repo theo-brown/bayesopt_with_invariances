{
 "cells": [
  {
   "cell_type": "code",
   "execution_count": 1,
   "metadata": {},
   "outputs": [],
   "source": [
    "using Plots\n",
    "using Random\n",
    "\n",
    "include(\"acquisition_functions.jl\")\n",
    "include(\"gp_utils.jl\")\n",
    "include(\"invariant_gps.jl\")\n",
    "include(\"plot_utils.jl\")\n",
    "include(\"kernel_objective_function.jl\")\n",
    "\n",
    "seed = 2024;\n",
    "Random.seed!(seed);"
   ]
  },
  {
   "cell_type": "code",
   "execution_count": 2,
   "metadata": {},
   "outputs": [
    {
     "ename": "InterruptException",
     "evalue": "InterruptException:",
     "output_type": "error",
     "traceback": [
      "InterruptException:\n",
      "\n",
      "Stacktrace:\n",
      " [1] top-level scope\n",
      "   @ ~/documents/ucl/bayesopt_under_invariance/main.ipynb:12"
     ]
    }
   ],
   "source": [
    "# Function drawn from 2D symmetric GP\n",
    "d = 2\n",
    "bounds = [(0.0, 1.0) for i in 1:d]\n",
    "θ_true = (\n",
    "    l=0.2,\n",
    "    σ_f=1.0,\n",
    "    σ_n=0.1,\n",
    ")\n",
    "xi_range = range(0.0, 1.0, length=100)\n",
    "f = build_latent_function(build_permutationinvariantmatern52_gp, θ_true, 64, bounds, 17)\n",
    "contourf(xi_range, xi_range, (x, y) -> f([x, y]), levels=32, color=:viridis, cbar=true, size=(300, 300), title=\"Ground truth\")"
   ]
  },
  {
   "cell_type": "code",
   "execution_count": 3,
   "metadata": {},
   "outputs": [
    {
     "ename": "UndefVarError",
     "evalue": "UndefVarError: `f` not defined",
     "output_type": "error",
     "traceback": [
      "UndefVarError: `f` not defined\n",
      "\n",
      "Stacktrace:\n",
      " [1] top-level scope\n",
      "   @ ~/documents/ucl/bayesopt_under_invariance/main.ipynb:11"
     ]
    }
   ],
   "source": [
    "# Preallocate arrays for the samples\n",
    "n_steps = 256\n",
    "observed_x = Vector{Vector{Float64}}(undef, n_steps)\n",
    "observed_y = Vector{Float64}(undef, n_steps)\n",
    "\n",
    "# Generate the initial observation\n",
    "observed_x[1] = [\n",
    "    rand(Uniform(lower, upper))\n",
    "    for (lower, upper) in bounds\n",
    "]\n",
    "observed_y[1] = f(observed_x[1])\n",
    "println(\"Initial observation: \", observed_x[1], \" -> \", observed_y[1])\n",
    "plot_2d_function_with_observations(f, observed_x[1:1])"
   ]
  },
  {
   "cell_type": "code",
   "execution_count": 4,
   "metadata": {},
   "outputs": [
    {
     "name": "stderr",
     "output_type": "stream",
     "text": [
      "┌ Warning: No strict ticks found\n",
      "└ @ PlotUtils /home/theo/.julia/packages/PlotUtils/jEGKP/src/ticks.jl:191\n",
      "┌ Warning: No strict ticks found\n",
      "└ @ PlotUtils /home/theo/.julia/packages/PlotUtils/jEGKP/src/ticks.jl:191\n"
     ]
    },
    {
     "data": {
      "text/plain": [
       "\"/home/theo/documents/ucl/bayesopt_under_invariance/mvr_1.png\""
      ]
     },
     "metadata": {},
     "output_type": "display_data"
    }
   ],
   "source": [
    "# Initial GP fitting\n",
    "# Prior on the GP hyperparameters\n",
    "θ_0 = (\n",
    "    σ_f=1.0,\n",
    "    l=[1.0 for _ in 1:d],\n",
    "    σ_n=0.1\n",
    ")\n",
    "\n",
    "# Build the GP\n",
    "gp = get_posterior_gp(build_permutationinvariantmatern52_gp, observed_x[1:1], observed_y[1:1], θ_0; optimise_hyperparameters=true)\n",
    "plot_2d_gp_with_observations(gp, observed_x[1:1])\n",
    "savefig(\"mvr_1.png\")"
   ]
  },
  {
   "cell_type": "code",
   "execution_count": 5,
   "metadata": {},
   "outputs": [
    {
     "ename": "UndefVarError",
     "evalue": "UndefVarError: `f` not defined",
     "output_type": "error",
     "traceback": [
      "UndefVarError: `f` not defined\n",
      "\n",
      "Stacktrace:\n",
      " [1] top-level scope\n",
      "   @ ~/documents/ucl/bayesopt_under_invariance/main.ipynb:5"
     ]
    }
   ],
   "source": [
    "for i in 2:n_steps\n",
    "    # Generate the next observation\n",
    "    x_next = maximise_acqf(gp, mvr, bounds, 256)\n",
    "    observed_x[i] = x_next\n",
    "    observed_y[i] = f(x_next)\n",
    "    println(\"[$i/$n_steps]: \", observed_x[i], \" -> \", observed_y[i])\n",
    "    plot_2d_function_with_observations(f, observed_x[1:i])\n",
    "\n",
    "    # Update the GP\n",
    "    gp = get_posterior_gp(build_permutationinvariantmatern52_gp, observed_x[1:i], observed_y[1:i], θ_0; optimise_hyperparameters=true)\n",
    "    plot_2d_gp_with_observations(gp, observed_x[1:i])\n",
    "    savefig(\"mvr_$(i).png\")\n",
    "end"
   ]
  }
 ],
 "metadata": {
  "kernelspec": {
   "display_name": "Julia 1.10.0",
   "language": "julia",
   "name": "julia-1.10"
  },
  "language_info": {
   "file_extension": ".jl",
   "mimetype": "application/julia",
   "name": "julia",
   "version": "1.10.0"
  }
 },
 "nbformat": 4,
 "nbformat_minor": 2
}
